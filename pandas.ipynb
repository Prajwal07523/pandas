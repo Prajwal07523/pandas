{
 "cells": [
  {
   "cell_type": "code",
   "execution_count": null,
   "id": "bd1f9984-2ccc-4e18-86d0-118090bdb1c6",
   "metadata": {},
   "outputs": [],
   "source": [
    "#Q1. Create a Pandas Series that contains the following data: 4, 8, 15, 16, 23, and 42. Then, print the series."
   ]
  },
  {
   "cell_type": "code",
   "execution_count": 2,
   "id": "74697910-9b1c-4c70-9880-6de6dba212fa",
   "metadata": {},
   "outputs": [],
   "source": [
    "import pandas as pd"
   ]
  },
  {
   "cell_type": "code",
   "execution_count": 6,
   "id": "1f09d4f0-813c-4bd6-ad1e-bbdc7aa5f7a0",
   "metadata": {},
   "outputs": [],
   "source": [
    "a=pd.Series([4,8,15,16,23,42])"
   ]
  },
  {
   "cell_type": "code",
   "execution_count": 7,
   "id": "f6dbcf8a-018e-45ef-a3be-c0f29e4b9177",
   "metadata": {},
   "outputs": [
    {
     "data": {
      "text/plain": [
       "0     4\n",
       "1     8\n",
       "2    15\n",
       "3    16\n",
       "4    23\n",
       "5    42\n",
       "dtype: int64"
      ]
     },
     "execution_count": 7,
     "metadata": {},
     "output_type": "execute_result"
    }
   ],
   "source": [
    "a"
   ]
  },
  {
   "cell_type": "code",
   "execution_count": 9,
   "id": "49f88dcf-bed0-41af-b440-6509337b39d2",
   "metadata": {},
   "outputs": [],
   "source": [
    "#Q2. Create a variable of list type containing 10 elements in it, and apply pandas.Series function on thevariable print it."
   ]
  },
  {
   "cell_type": "code",
   "execution_count": 10,
   "id": "3ae0bb97-9d4d-4d25-9d4a-27dc8b94c1a9",
   "metadata": {},
   "outputs": [],
   "source": [
    "list=[1,13,18,17,38,True,'sudh','pwskills','harry',12.3]"
   ]
  },
  {
   "cell_type": "code",
   "execution_count": 11,
   "id": "5d749288-d96a-4772-848d-a33bc6cc2d26",
   "metadata": {},
   "outputs": [],
   "source": [
    "b=pd.Series(list)"
   ]
  },
  {
   "cell_type": "code",
   "execution_count": 12,
   "id": "e4acf622-1feb-45b2-a0cd-bad5e0b9f22e",
   "metadata": {},
   "outputs": [
    {
     "data": {
      "text/plain": [
       "0           1\n",
       "1          13\n",
       "2          18\n",
       "3          17\n",
       "4          38\n",
       "5        True\n",
       "6        sudh\n",
       "7    pwskills\n",
       "8       harry\n",
       "9        12.3\n",
       "dtype: object"
      ]
     },
     "execution_count": 12,
     "metadata": {},
     "output_type": "execute_result"
    }
   ],
   "source": [
    "b"
   ]
  },
  {
   "cell_type": "code",
   "execution_count": 13,
   "id": "97f7b2de-e501-4f67-abda-772f6fdfddfb",
   "metadata": {},
   "outputs": [],
   "source": [
    "#Q3. Create a Pandas DataFrame that contains the following data:\n",
    "\n",
    "#Then, print the DataFrame."
   ]
  },
  {
   "cell_type": "code",
   "execution_count": 14,
   "id": "7dd1614e-4ed5-482e-8dd6-ca98316ed712",
   "metadata": {},
   "outputs": [],
   "source": [
    "c=pd.DataFrame({'name':['Alice','Bob','clarie'],'age':[25,30,27],'Gender':['Female','Male','Female']})"
   ]
  },
  {
   "cell_type": "code",
   "execution_count": 15,
   "id": "72b4fc5f-c893-4150-9e7e-a354bffdcaa3",
   "metadata": {},
   "outputs": [
    {
     "data": {
      "text/html": [
       "<div>\n",
       "<style scoped>\n",
       "    .dataframe tbody tr th:only-of-type {\n",
       "        vertical-align: middle;\n",
       "    }\n",
       "\n",
       "    .dataframe tbody tr th {\n",
       "        vertical-align: top;\n",
       "    }\n",
       "\n",
       "    .dataframe thead th {\n",
       "        text-align: right;\n",
       "    }\n",
       "</style>\n",
       "<table border=\"1\" class=\"dataframe\">\n",
       "  <thead>\n",
       "    <tr style=\"text-align: right;\">\n",
       "      <th></th>\n",
       "      <th>name</th>\n",
       "      <th>age</th>\n",
       "      <th>Gender</th>\n",
       "    </tr>\n",
       "  </thead>\n",
       "  <tbody>\n",
       "    <tr>\n",
       "      <th>0</th>\n",
       "      <td>Alice</td>\n",
       "      <td>25</td>\n",
       "      <td>Female</td>\n",
       "    </tr>\n",
       "    <tr>\n",
       "      <th>1</th>\n",
       "      <td>Bob</td>\n",
       "      <td>30</td>\n",
       "      <td>Male</td>\n",
       "    </tr>\n",
       "    <tr>\n",
       "      <th>2</th>\n",
       "      <td>clarie</td>\n",
       "      <td>27</td>\n",
       "      <td>Female</td>\n",
       "    </tr>\n",
       "  </tbody>\n",
       "</table>\n",
       "</div>"
      ],
      "text/plain": [
       "     name  age  Gender\n",
       "0   Alice   25  Female\n",
       "1     Bob   30    Male\n",
       "2  clarie   27  Female"
      ]
     },
     "execution_count": 15,
     "metadata": {},
     "output_type": "execute_result"
    }
   ],
   "source": [
    "c"
   ]
  },
  {
   "cell_type": "code",
   "execution_count": 16,
   "id": "6232bb91-c3e8-4152-9242-6fb524e4335b",
   "metadata": {},
   "outputs": [],
   "source": [
    "#Q4. What is ‘DataFrame’ in pandas and how is it different from pandas.series? Explain with an example."
   ]
  },
  {
   "cell_type": "code",
   "execution_count": 17,
   "id": "69084b24-6a93-41b9-bce3-9f7cb31fe677",
   "metadata": {},
   "outputs": [
    {
     "ename": "SyntaxError",
     "evalue": "invalid syntax (1851492646.py, line 1)",
     "output_type": "error",
     "traceback": [
      "\u001b[0;36m  Cell \u001b[0;32mIn[17], line 1\u001b[0;36m\u001b[0m\n\u001b[0;31m    In pandas, a DataFrame is a two-dimensional tabular data structure consisting of rows and columns\u001b[0m\n\u001b[0m       ^\u001b[0m\n\u001b[0;31mSyntaxError\u001b[0m\u001b[0;31m:\u001b[0m invalid syntax\n"
     ]
    }
   ],
   "source": [
    "In pandas, a DataFrame is a two-dimensional tabular data structure consisting of rows and columns\n",
    "ex:CSV files, SQL databases, Excel files, or Python dictionaries.\n",
    "a pandas Series is a one-dimensional labeled array that can hold data of any type (integer, float, string, etc.)"
   ]
  },
  {
   "cell_type": "code",
   "execution_count": 18,
   "id": "046b36c9-ab50-41fc-a08f-84d6c8b92496",
   "metadata": {},
   "outputs": [],
   "source": [
    "#Q5. What are some common functions you can use to manipulate data in a Pandas DataFrame? Canyou give an example of when you might use one of these functions?"
   ]
  },
  {
   "cell_type": "code",
   "execution_count": null,
   "id": "c739f46e-0636-41c3-88cf-5cb78340be51",
   "metadata": {},
   "outputs": [],
   "source": [
    "head()\n",
    "tail()\n",
    "describe()\n",
    "iloc[]\n",
    "loc[]\n"
   ]
  },
  {
   "cell_type": "code",
   "execution_count": 19,
   "id": "fe5889c8-db44-4746-bd62-ccdb9928a3ff",
   "metadata": {},
   "outputs": [],
   "source": [
    "#Q6. Which of the following is mutable in nature Series, DataFrame, Panel?"
   ]
  },
  {
   "cell_type": "code",
   "execution_count": null,
   "id": "9e94d7b4-109e-45ed-83cc-3cdc07f9d919",
   "metadata": {},
   "outputs": [],
   "source": [
    "Both Series and DataFrame are mutable in nature, whereas Panel is considered as deprecated and is no longer recommended for use in pandas version 1.0 and above."
   ]
  },
  {
   "cell_type": "code",
   "execution_count": 20,
   "id": "e74e11e5-768d-48b6-bf00-dd4d0031c937",
   "metadata": {},
   "outputs": [],
   "source": [
    "#Create a DataFrame using multiple Series. Explain with an example."
   ]
  },
  {
   "cell_type": "code",
   "execution_count": 22,
   "id": "ff678b7a-0639-40ae-a8dd-103b36ff8b50",
   "metadata": {},
   "outputs": [],
   "source": [
    "names=pd.Series(['sudh','krish','harry','love babbar','striver'])\n",
    "topics=pd.Series(['python','stats','web','DSA','GRAPHS'])\n",
    "ages=pd.Series([30,32,29,28,27])"
   ]
  },
  {
   "cell_type": "code",
   "execution_count": 24,
   "id": "47b27897-99b0-4c91-a845-9ed6a512a374",
   "metadata": {},
   "outputs": [],
   "source": [
    "D=pd.DataFrame({'name':names,'topic':topics,'age':ages})"
   ]
  },
  {
   "cell_type": "code",
   "execution_count": 25,
   "id": "bb57afb1-4768-4e21-ad7f-c29683d8f188",
   "metadata": {},
   "outputs": [
    {
     "data": {
      "text/html": [
       "<div>\n",
       "<style scoped>\n",
       "    .dataframe tbody tr th:only-of-type {\n",
       "        vertical-align: middle;\n",
       "    }\n",
       "\n",
       "    .dataframe tbody tr th {\n",
       "        vertical-align: top;\n",
       "    }\n",
       "\n",
       "    .dataframe thead th {\n",
       "        text-align: right;\n",
       "    }\n",
       "</style>\n",
       "<table border=\"1\" class=\"dataframe\">\n",
       "  <thead>\n",
       "    <tr style=\"text-align: right;\">\n",
       "      <th></th>\n",
       "      <th>name</th>\n",
       "      <th>topic</th>\n",
       "      <th>age</th>\n",
       "    </tr>\n",
       "  </thead>\n",
       "  <tbody>\n",
       "    <tr>\n",
       "      <th>0</th>\n",
       "      <td>sudh</td>\n",
       "      <td>python</td>\n",
       "      <td>30</td>\n",
       "    </tr>\n",
       "    <tr>\n",
       "      <th>1</th>\n",
       "      <td>krish</td>\n",
       "      <td>stats</td>\n",
       "      <td>32</td>\n",
       "    </tr>\n",
       "    <tr>\n",
       "      <th>2</th>\n",
       "      <td>harry</td>\n",
       "      <td>web</td>\n",
       "      <td>29</td>\n",
       "    </tr>\n",
       "    <tr>\n",
       "      <th>3</th>\n",
       "      <td>love babbar</td>\n",
       "      <td>DSA</td>\n",
       "      <td>28</td>\n",
       "    </tr>\n",
       "    <tr>\n",
       "      <th>4</th>\n",
       "      <td>striver</td>\n",
       "      <td>GRAPHS</td>\n",
       "      <td>27</td>\n",
       "    </tr>\n",
       "  </tbody>\n",
       "</table>\n",
       "</div>"
      ],
      "text/plain": [
       "          name   topic  age\n",
       "0         sudh  python   30\n",
       "1        krish   stats   32\n",
       "2        harry     web   29\n",
       "3  love babbar     DSA   28\n",
       "4      striver  GRAPHS   27"
      ]
     },
     "execution_count": 25,
     "metadata": {},
     "output_type": "execute_result"
    }
   ],
   "source": [
    "D"
   ]
  },
  {
   "cell_type": "code",
   "execution_count": null,
   "id": "1df86f02-ad29-45f6-affd-5337eb9b1242",
   "metadata": {},
   "outputs": [],
   "source": []
  }
 ],
 "metadata": {
  "kernelspec": {
   "display_name": "Python 3 (ipykernel)",
   "language": "python",
   "name": "python3"
  },
  "language_info": {
   "codemirror_mode": {
    "name": "ipython",
    "version": 3
   },
   "file_extension": ".py",
   "mimetype": "text/x-python",
   "name": "python",
   "nbconvert_exporter": "python",
   "pygments_lexer": "ipython3",
   "version": "3.10.8"
  }
 },
 "nbformat": 4,
 "nbformat_minor": 5
}
